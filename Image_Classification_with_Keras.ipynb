{
  "nbformat": 4,
  "nbformat_minor": 0,
  "metadata": {
    "kernelspec": {
      "name": "python3",
      "display_name": "Python 3"
    },
    "language_info": {
      "codemirror_mode": {
        "name": "ipython",
        "version": 3
      },
      "file_extension": ".py",
      "mimetype": "text/x-python",
      "name": "python",
      "nbconvert_exporter": "python",
      "pygments_lexer": "ipython3",
      "version": "3.6.8"
    },
    "colab": {
      "name": "Image_Classification_with_Keras.ipynb",
      "provenance": [],
      "toc_visible": true,
      "include_colab_link": true
    },
    "accelerator": "GPU"
  },
  "cells": [
    {
      "cell_type": "markdown",
      "metadata": {
        "id": "view-in-github",
        "colab_type": "text"
      },
      "source": [
        "<a href=\"https://colab.research.google.com/github/abdullah345/Deep-Learning-with-keras/blob/master/Image_Classification_with_Keras.ipynb\" target=\"_parent\"><img src=\"https://colab.research.google.com/assets/colab-badge.svg\" alt=\"Open In Colab\"/></a>"
      ]
    },
    {
      "cell_type": "markdown",
      "metadata": {
        "id": "3br2WijThoIv",
        "colab_type": "text"
      },
      "source": [
        "# Training a Computer to Differentiate Cats"
      ]
    },
    {
      "cell_type": "code",
      "metadata": {
        "id": "aY7YUChJhoIw",
        "colab_type": "code",
        "outputId": "973be563-0b0b-41a5-a7be-aad3e4c4b9c8",
        "colab": {
          "base_uri": "https://localhost:8080/",
          "height": 34
        }
      },
      "source": [
        "from keras.models import Sequential, load_model\n",
        "from keras.layers import Dense, Activation, Dropout\n",
        "from keras.layers.normalization import BatchNormalization\n",
        "from keras.optimizers import SGD, Adam\n",
        "from keras import regularizers\n",
        "import keras\n",
        "import numpy as np\n",
        "import pandas as pd\n",
        "import matplotlib.pyplot as plt\n",
        "import h5py\n",
        "\n",
        "%matplotlib inline\n",
        "np.random.seed(1)"
      ],
      "execution_count": 0,
      "outputs": [
        {
          "output_type": "stream",
          "text": [
            "Using TensorFlow backend.\n"
          ],
          "name": "stderr"
        }
      ]
    },
    {
      "cell_type": "code",
      "metadata": {
        "id": "ZOD4heu1hoI0",
        "colab_type": "code",
        "colab": {}
      },
      "source": [
        "plt.rcParams['figure.figsize'] = (8.0, 8.0) # set default size of plots\n",
        "plt.rcParams['image.interpolation'] = 'nearest'\n",
        "plt.rcParams['image.cmap'] = 'gray'\n",
        "\n",
        "np.random.seed(1)"
      ],
      "execution_count": 0,
      "outputs": []
    },
    {
      "cell_type": "markdown",
      "metadata": {
        "id": "Kt6_1g4AhoI2",
        "colab_type": "text"
      },
      "source": [
        "## 1 - Overview of the data set\n",
        "\n",
        "First of all, we'll load the data. After loading, here's a basic overview;\n",
        "\n",
        "- a training set of m_train images labeled as cat (y=1) or non-cat (y=0)\n",
        "- a test set of m_test images labeled as cat or non-cat\n",
        "- each image is of shape (num_px, num_px, 3) where 3 is for the 3 channels (RGB). Thus, each image is square (height = num_px) and (width = num_px)."
      ]
    },
    {
      "cell_type": "code",
      "metadata": {
        "id": "UH2SseTLhoI4",
        "colab_type": "code",
        "colab": {}
      },
      "source": [
        "train_dataset = h5py.File('train.h5', \"r\")\n",
        "train_set_x_orig = np.array(train_dataset[\"train_set_x\"][:]) # train set features\n",
        "train_set_y_orig = np.array(train_dataset[\"train_set_y\"][:]) # train set labels\n",
        "\n",
        "test_dataset = h5py.File('test.h5', \"r\")\n",
        "test_set_x_orig = np.array(test_dataset[\"test_set_x\"][:]) # test set features\n",
        "test_set_y_orig = np.array(test_dataset[\"test_set_y\"][:]) # test set labels"
      ],
      "execution_count": 0,
      "outputs": []
    },
    {
      "cell_type": "code",
      "metadata": {
        "id": "1LOSeUzAhoI6",
        "colab_type": "code",
        "outputId": "5e57ca50-e493-4dbd-bd3d-e671fec205dd",
        "colab": {
          "base_uri": "https://localhost:8080/",
          "height": 34
        }
      },
      "source": [
        "classes = np.array(test_dataset[\"list_classes\"][:]) # the list of classes\n",
        "classes"
      ],
      "execution_count": 0,
      "outputs": [
        {
          "output_type": "execute_result",
          "data": {
            "text/plain": [
              "array([b'non-cat', b'cat'], dtype='|S7')"
            ]
          },
          "metadata": {
            "tags": []
          },
          "execution_count": 4
        }
      ]
    },
    {
      "cell_type": "code",
      "metadata": {
        "id": "ymdJIQluhoI9",
        "colab_type": "code",
        "outputId": "4b8a01ae-4b3d-439f-ede1-96c4c467f9de",
        "colab": {
          "base_uri": "https://localhost:8080/",
          "height": 51
        }
      },
      "source": [
        "train_set_y = train_set_y_orig.reshape((1, train_set_y_orig.shape[0]))\n",
        "test_set_y = test_set_y_orig.reshape((1, test_set_y_orig.shape[0]))\n",
        "print(train_set_y.shape)\n",
        "print(test_set_y.shape)"
      ],
      "execution_count": 0,
      "outputs": [
        {
          "output_type": "stream",
          "text": [
            "(1, 209)\n",
            "(1, 50)\n"
          ],
          "name": "stdout"
        }
      ]
    },
    {
      "cell_type": "markdown",
      "metadata": {
        "id": "ZkwqYMQMhoI_",
        "colab_type": "text"
      },
      "source": [
        "Each line of train_set_x_orig and test_set_x_orig is an array representing an image. You can visualize an example by running the following code. Feel free also to change the index value and re-run to see other images."
      ]
    },
    {
      "cell_type": "code",
      "metadata": {
        "id": "lGpNzyVUhoI_",
        "colab_type": "code",
        "outputId": "b61d0911-5a93-479b-a0e9-579fcf251218",
        "colab": {
          "base_uri": "https://localhost:8080/",
          "height": 503
        }
      },
      "source": [
        "# Example of a picture\n",
        "index = 135\n",
        "plt.imshow(train_set_x_orig[index])\n",
        "print (\"y = \" + str(train_set_y[:, index]) + \", it's a '\" + classes[np.squeeze(train_set_y[:, index])].decode(\"utf-8\") +  \"' picture.\")"
      ],
      "execution_count": 0,
      "outputs": [
        {
          "output_type": "stream",
          "text": [
            "y = [1], it's a 'cat' picture.\n"
          ],
          "name": "stdout"
        },
        {
          "output_type": "display_data",
          "data": {
            "image/png": "[encoded data removed]",
            "text/plain": [
              "<Figure size 576x576 with 1 Axes>"
            ]
          },
          "metadata": {
            "tags": []
          }
        }
      ]
    },
    {
      "cell_type": "markdown",
      "metadata": {
        "id": "AHsc9Yo2hoJC",
        "colab_type": "text"
      },
      "source": [
        "## 2 - Data preprocessing\n",
        "\n",
        "Common steps for pre-processing a new dataset are:\n",
        "\n",
        "- Figure out the dimensions and shapes of the problem (m_train, m_test, num_px, ...)\n",
        "- Reshape the datasets such that each example is now a vector of size (num_px * num_px * 3, 1)\n",
        "- \"Standardize\" the data\n",
        "\n",
        "Many software bugs in deep learning come from having matrix/vector dimensions that don't fit. If you can keep your matrix/vector dimensions straight you will go a long way toward eliminating many bugs."
      ]
    },
    {
      "cell_type": "markdown",
      "metadata": {
        "id": "5BWKFUIOhoJC",
        "colab_type": "text"
      },
      "source": [
        "### 2.1 Dimensions of our data"
      ]
    },
    {
      "cell_type": "code",
      "metadata": {
        "id": "ANLN6CGwhoJD",
        "colab_type": "code",
        "outputId": "4be06b45-1877-41ef-bf4d-3cb2cb909ea1",
        "colab": {
          "base_uri": "https://localhost:8080/",
          "height": 102
        }
      },
      "source": [
        "m_train = train_set_x_orig.shape[0]\n",
        "m_test = test_set_x_orig.shape[0]\n",
        "num_px = train_set_x_orig.shape[1]\n",
        "\n",
        "print (\"Dataset dimensions:\")\n",
        "print (\"Number of training examples: m_train = \" + str(m_train))\n",
        "print (\"Number of testing examples: m_test = \" + str(m_test))\n",
        "print (\"Height/Width of each image: num_px = \" + str(num_px))\n",
        "print (\"Each image is of size: (\" + str(num_px) + \", \" + str(num_px) + \", 3)\")"
      ],
      "execution_count": 0,
      "outputs": [
        {
          "output_type": "stream",
          "text": [
            "Dataset dimensions:\n",
            "Number of training examples: m_train = 209\n",
            "Number of testing examples: m_test = 50\n",
            "Height/Width of each image: num_px = 64\n",
            "Each image is of size: (64, 64, 3)\n"
          ],
          "name": "stdout"
        }
      ]
    },
    {
      "cell_type": "code",
      "metadata": {
        "id": "1nL-W2vghoJF",
        "colab_type": "code",
        "outputId": "dd7728a7-4ed5-49c2-ecfb-c174bffc4b95",
        "colab": {
          "base_uri": "https://localhost:8080/",
          "height": 85
        }
      },
      "source": [
        "print (\"train_set_x shape: \" + str(train_set_x_orig.shape))\n",
        "print (\"train_set_y shape: \" + str(train_set_y.shape))\n",
        "print (\"test_set_x shape: \" + str(test_set_x_orig.shape))\n",
        "print (\"test_set_y shape: \" + str(test_set_y.shape))"
      ],
      "execution_count": 0,
      "outputs": [
        {
          "output_type": "stream",
          "text": [
            "train_set_x shape: (209, 64, 64, 3)\n",
            "train_set_y shape: (1, 209)\n",
            "test_set_x shape: (50, 64, 64, 3)\n",
            "test_set_y shape: (1, 50)\n"
          ],
          "name": "stdout"
        }
      ]
    },
    {
      "cell_type": "markdown",
      "metadata": {
        "id": "LhRHnvIThoJH",
        "colab_type": "text"
      },
      "source": [
        "### 2.2 Reshaping data"
      ]
    },
    {
      "cell_type": "markdown",
      "metadata": {
        "id": "yIp3wZrQhoJJ",
        "colab_type": "text"
      },
      "source": [
        "For convenience, we now reshape images of shape (num_px, num_px, 3) in a numpy-array of shape (num_px $*$ num_px $*$ 3, 1). After this, our training (and test) dataset is a numpy-array where each column represents a flattened image. There should be m_train (respectively m_test) columns.\n",
        "\n",
        "A trick when you want to flatten a matrix X of shape (a,b,c,d) to a matrix X_flatten of shape (b$*$c$*$d, a) is to use:\n",
        "\n",
        "    X_flatten = X.reshape(X.shape[0], -1).T      # X.T is the transpose of X"
      ]
    },
    {
      "cell_type": "code",
      "metadata": {
        "id": "4RbVa1UBhoJJ",
        "colab_type": "code",
        "outputId": "c63b8342-867c-40b0-f82d-b1f5ec3140f9",
        "colab": {
          "base_uri": "https://localhost:8080/",
          "height": 85
        }
      },
      "source": [
        "# Reshape the training and test examples\n",
        "\n",
        "train_set_x_flatten = train_set_x_orig.reshape(train_set_x_orig.shape[0], -1)\n",
        "test_set_x_flatten = test_set_x_orig.reshape(test_set_x_orig.shape[0], -1)\n",
        "train_set_y = train_set_y.T\n",
        "test_set_y = test_set_y.T\n",
        "\n",
        "print (\"train_set_x_flatten shape: \" + str(train_set_x_flatten.shape))\n",
        "print (\"train_set_y shape: \" + str(train_set_y.shape))\n",
        "print (\"test_set_x_flatten shape: \" + str(test_set_x_flatten.shape))\n",
        "print (\"test_set_y shape: \" + str(test_set_y.shape))"
      ],
      "execution_count": 0,
      "outputs": [
        {
          "output_type": "stream",
          "text": [
            "train_set_x_flatten shape: (209, 12288)\n",
            "train_set_y shape: (209, 1)\n",
            "test_set_x_flatten shape: (50, 12288)\n",
            "test_set_y shape: (50, 1)\n"
          ],
          "name": "stdout"
        }
      ]
    },
    {
      "cell_type": "markdown",
      "metadata": {
        "id": "mcDXaWIwhoJL",
        "colab_type": "text"
      },
      "source": [
        "### 2.3 Standardizing data"
      ]
    },
    {
      "cell_type": "markdown",
      "metadata": {
        "id": "meEzpHd4hoJM",
        "colab_type": "text"
      },
      "source": [
        "One common preprocessing step in machine learning is to center and standardize your dataset, meaning that you substract the mean of the whole numpy array from each example, and then divide each example by the standard deviation of the whole numpy array. But for picture datasets, it is simpler and more convenient and works almost as well to just divide every row of the dataset by 255 (the maximum value of a pixel channel).\n",
        "\n",
        "Let's standardize our dataset."
      ]
    },
    {
      "cell_type": "code",
      "metadata": {
        "id": "gsVDfzkThoJN",
        "colab_type": "code",
        "colab": {}
      },
      "source": [
        "train_set_x = train_set_x_flatten/255.\n",
        "test_set_x = test_set_x_flatten/255."
      ],
      "execution_count": 0,
      "outputs": []
    },
    {
      "cell_type": "code",
      "metadata": {
        "id": "LeZP7KbUhoJP",
        "colab_type": "code",
        "outputId": "dd999f7e-8026-4e9f-9e56-ffa40878dd13",
        "colab": {
          "base_uri": "https://localhost:8080/",
          "height": 34
        }
      },
      "source": [
        "train_set_x.shape"
      ],
      "execution_count": 0,
      "outputs": [
        {
          "output_type": "execute_result",
          "data": {
            "text/plain": [
              "(209, 12288)"
            ]
          },
          "metadata": {
            "tags": []
          },
          "execution_count": 11
        }
      ]
    },
    {
      "cell_type": "markdown",
      "metadata": {
        "id": "idS9o4w8hoJQ",
        "colab_type": "text"
      },
      "source": [
        "## 3 - Modeling"
      ]
    },
    {
      "cell_type": "code",
      "metadata": {
        "id": "IPVTkmbfhoJR",
        "colab_type": "code",
        "colab": {}
      },
      "source": [
        "from numpy.random import seed\n",
        "seed(1)\n",
        "from tensorflow import set_random_seed\n",
        "set_random_seed(2)"
      ],
      "execution_count": 0,
      "outputs": []
    },
    {
      "cell_type": "code",
      "metadata": {
        "id": "uFd4i6E8hoJU",
        "colab_type": "code",
        "colab": {}
      },
      "source": [
        "# Utility function\n",
        "def evaluate_this_model(model, epochs):\n",
        "    history = model.fit(train_set_x, train_set_y, epochs=epochs)\n",
        "    results = model.evaluate(test_set_x, test_set_y)\n",
        "    \n",
        "    plt.plot(np.squeeze(history.history[\"loss\"]))\n",
        "    plt.ylabel('cost')\n",
        "    plt.xlabel('iterations (per tens)')\n",
        "    plt.title(\"Learning rate =\" + str(learning_rate))\n",
        "    plt.show()\n",
        "    \n",
        "    print(\"\\n\\nAccuracy on training set is {}\".format(history.history[\"acc\"][-1]))\n",
        "    print(\"\\nAccuracy on test set is {}\".format(results[1]))"
      ],
      "execution_count": 0,
      "outputs": []
    },
    {
      "cell_type": "markdown",
      "metadata": {
        "id": "9NCX0geYhoJW",
        "colab_type": "text"
      },
      "source": [
        "### 3.1 Starting with a basic model"
      ]
    },
    {
      "cell_type": "code",
      "metadata": {
        "id": "tr3vrF_-hoJX",
        "colab_type": "code",
        "outputId": "a596fe83-f50e-427f-cf6a-cebb7ce980dc",
        "colab": {
          "base_uri": "https://localhost:8080/",
          "height": 139
        }
      },
      "source": [
        "model = Sequential()\n",
        "\n",
        "model.add(Dense(units=25, activation='relu', input_dim=train_set_x_flatten.shape[1]))\n",
        "model.add(Dense(units=30, activation='relu'))\n",
        "model.add(Dense(units=20, activation='relu'))\n",
        "model.add(Dense(units=10, activation='relu'))\n",
        "model.add(Dense(units=1, activation='sigmoid'))"
      ],
      "execution_count": 0,
      "outputs": [
        {
          "output_type": "stream",
          "text": [
            "WARNING:tensorflow:From /usr/local/lib/python3.6/dist-packages/keras/backend/tensorflow_backend.py:66: The name tf.get_default_graph is deprecated. Please use tf.compat.v1.get_default_graph instead.\n",
            "\n",
            "WARNING:tensorflow:From /usr/local/lib/python3.6/dist-packages/keras/backend/tensorflow_backend.py:541: The name tf.placeholder is deprecated. Please use tf.compat.v1.placeholder instead.\n",
            "\n",
            "WARNING:tensorflow:From /usr/local/lib/python3.6/dist-packages/keras/backend/tensorflow_backend.py:4432: The name tf.random_uniform is deprecated. Please use tf.random.uniform instead.\n",
            "\n"
          ],
          "name": "stdout"
        }
      ]
    },
    {
      "cell_type": "code",
      "metadata": {
        "id": "8GeIAnCphoJZ",
        "colab_type": "code",
        "outputId": "2ea59d13-65a9-42ae-b51b-8ccd4f3d9ba1",
        "colab": {
          "base_uri": "https://localhost:8080/",
          "height": 156
        }
      },
      "source": [
        "learning_rate = 0.0001\n",
        "opt = Adam(lr=learning_rate)\n",
        "model.compile(optimizer=opt,\n",
        "              loss='binary_crossentropy',\n",
        "              metrics=['accuracy'])"
      ],
      "execution_count": 0,
      "outputs": [
        {
          "output_type": "stream",
          "text": [
            "WARNING:tensorflow:From /usr/local/lib/python3.6/dist-packages/keras/optimizers.py:793: The name tf.train.Optimizer is deprecated. Please use tf.compat.v1.train.Optimizer instead.\n",
            "\n",
            "WARNING:tensorflow:From /usr/local/lib/python3.6/dist-packages/keras/backend/tensorflow_backend.py:3657: The name tf.log is deprecated. Please use tf.math.log instead.\n",
            "\n",
            "WARNING:tensorflow:From /usr/local/lib/python3.6/dist-packages/tensorflow/python/ops/nn_impl.py:180: add_dispatch_support.<locals>.wrapper (from tensorflow.python.ops.array_ops) is deprecated and will be removed in a future version.\n",
            "Instructions for updating:\n",
            "Use tf.where in 2.0, which has the same broadcast rule as np.where\n"
          ],
          "name": "stdout"
        }
      ]
    },
    {
      "cell_type": "code",
      "metadata": {
        "scrolled": true,
        "id": "CPqdbn1NhoJa",
        "colab_type": "code",
        "outputId": "e22e67b5-a8cd-45d9-d858-58432b77237d",
        "colab": {
          "base_uri": "https://localhost:8080/",
          "height": 1000
        }
      },
      "source": [
        "h = evaluate_this_model(model, 50)"
      ],
      "execution_count": 0,
      "outputs": [
        {
          "output_type": "stream",
          "text": [
            "WARNING:tensorflow:From /usr/local/lib/python3.6/dist-packages/keras/backend/tensorflow_backend.py:1033: The name tf.assign_add is deprecated. Please use tf.compat.v1.assign_add instead.\n",
            "\n",
            "Epoch 1/50\n",
            "209/209 [==============================] - 5s 22ms/step - loss: 0.6789 - acc: 0.5885\n",
            "Epoch 2/50\n",
            "209/209 [==============================] - 0s 252us/step - loss: 0.6461 - acc: 0.6507\n",
            "Epoch 3/50\n",
            "209/209 [==============================] - 0s 264us/step - loss: 0.6417 - acc: 0.6507\n",
            "Epoch 4/50\n",
            "209/209 [==============================] - 0s 260us/step - loss: 0.6339 - acc: 0.6507\n",
            "Epoch 5/50\n",
            "209/209 [==============================] - 0s 241us/step - loss: 0.6238 - acc: 0.6507\n",
            "Epoch 6/50\n",
            "209/209 [==============================] - 0s 253us/step - loss: 0.6200 - acc: 0.6507\n",
            "Epoch 7/50\n",
            "209/209 [==============================] - 0s 282us/step - loss: 0.6094 - acc: 0.6507\n",
            "Epoch 8/50\n",
            "209/209 [==============================] - 0s 258us/step - loss: 0.6054 - acc: 0.6507\n",
            "Epoch 9/50\n",
            "209/209 [==============================] - 0s 265us/step - loss: 0.6067 - acc: 0.6507\n",
            "Epoch 10/50\n",
            "209/209 [==============================] - 0s 263us/step - loss: 0.5928 - acc: 0.6459\n",
            "Epoch 11/50\n",
            "209/209 [==============================] - 0s 266us/step - loss: 0.5893 - acc: 0.6507\n",
            "Epoch 12/50\n",
            "209/209 [==============================] - 0s 259us/step - loss: 0.5823 - acc: 0.6555\n",
            "Epoch 13/50\n",
            "209/209 [==============================] - 0s 275us/step - loss: 0.5753 - acc: 0.6603\n",
            "Epoch 14/50\n",
            "209/209 [==============================] - 0s 258us/step - loss: 0.5717 - acc: 0.6651\n",
            "Epoch 15/50\n",
            "209/209 [==============================] - 0s 258us/step - loss: 0.5734 - acc: 0.6603\n",
            "Epoch 16/50\n",
            "209/209 [==============================] - 0s 270us/step - loss: 0.5663 - acc: 0.6890\n",
            "Epoch 17/50\n",
            "209/209 [==============================] - 0s 264us/step - loss: 0.5592 - acc: 0.6938\n",
            "Epoch 18/50\n",
            "209/209 [==============================] - 0s 277us/step - loss: 0.5592 - acc: 0.6842\n",
            "Epoch 19/50\n",
            "209/209 [==============================] - 0s 273us/step - loss: 0.5527 - acc: 0.7464\n",
            "Epoch 20/50\n",
            "209/209 [==============================] - 0s 270us/step - loss: 0.5559 - acc: 0.6699\n",
            "Epoch 21/50\n",
            "209/209 [==============================] - 0s 259us/step - loss: 0.5422 - acc: 0.7416\n",
            "Epoch 22/50\n",
            "209/209 [==============================] - 0s 264us/step - loss: 0.5368 - acc: 0.7416\n",
            "Epoch 23/50\n",
            "209/209 [==============================] - 0s 254us/step - loss: 0.5377 - acc: 0.6938\n",
            "Epoch 24/50\n",
            "209/209 [==============================] - 0s 263us/step - loss: 0.5231 - acc: 0.7847\n",
            "Epoch 25/50\n",
            "209/209 [==============================] - 0s 305us/step - loss: 0.5172 - acc: 0.7321\n",
            "Epoch 26/50\n",
            "209/209 [==============================] - 0s 268us/step - loss: 0.5159 - acc: 0.7656\n",
            "Epoch 27/50\n",
            "209/209 [==============================] - 0s 261us/step - loss: 0.5082 - acc: 0.7560\n",
            "Epoch 28/50\n",
            "209/209 [==============================] - 0s 246us/step - loss: 0.5015 - acc: 0.7416\n",
            "Epoch 29/50\n",
            "209/209 [==============================] - 0s 253us/step - loss: 0.4967 - acc: 0.7608\n",
            "Epoch 30/50\n",
            "209/209 [==============================] - 0s 263us/step - loss: 0.4937 - acc: 0.8278\n",
            "Epoch 31/50\n",
            "209/209 [==============================] - 0s 258us/step - loss: 0.5088 - acc: 0.7273\n",
            "Epoch 32/50\n",
            "209/209 [==============================] - 0s 258us/step - loss: 0.4887 - acc: 0.8421\n",
            "Epoch 33/50\n",
            "209/209 [==============================] - 0s 255us/step - loss: 0.4777 - acc: 0.7656\n",
            "Epoch 34/50\n",
            "209/209 [==============================] - 0s 257us/step - loss: 0.4722 - acc: 0.8086\n",
            "Epoch 35/50\n",
            "209/209 [==============================] - 0s 264us/step - loss: 0.4689 - acc: 0.7751\n",
            "Epoch 36/50\n",
            "209/209 [==============================] - 0s 268us/step - loss: 0.4675 - acc: 0.8373\n",
            "Epoch 37/50\n",
            "209/209 [==============================] - 0s 271us/step - loss: 0.4613 - acc: 0.7847\n",
            "Epoch 38/50\n",
            "209/209 [==============================] - 0s 276us/step - loss: 0.4508 - acc: 0.8325\n",
            "Epoch 39/50\n",
            "209/209 [==============================] - 0s 264us/step - loss: 0.4444 - acc: 0.8469\n",
            "Epoch 40/50\n",
            "209/209 [==============================] - 0s 262us/step - loss: 0.4470 - acc: 0.7799\n",
            "Epoch 41/50\n",
            "209/209 [==============================] - 0s 262us/step - loss: 0.4468 - acc: 0.8900\n",
            "Epoch 42/50\n",
            "209/209 [==============================] - 0s 252us/step - loss: 0.4392 - acc: 0.7990\n",
            "Epoch 43/50\n",
            "209/209 [==============================] - 0s 287us/step - loss: 0.4263 - acc: 0.8947\n",
            "Epoch 44/50\n",
            "209/209 [==============================] - 0s 264us/step - loss: 0.4257 - acc: 0.8278\n",
            "Epoch 45/50\n",
            "209/209 [==============================] - 0s 268us/step - loss: 0.4191 - acc: 0.8900\n",
            "Epoch 46/50\n",
            "209/209 [==============================] - 0s 266us/step - loss: 0.4090 - acc: 0.8900\n",
            "Epoch 47/50\n",
            "209/209 [==============================] - 0s 274us/step - loss: 0.4110 - acc: 0.8373\n",
            "Epoch 48/50\n",
            "209/209 [==============================] - 0s 272us/step - loss: 0.4005 - acc: 0.8947\n",
            "Epoch 49/50\n",
            "209/209 [==============================] - 0s 258us/step - loss: 0.3981 - acc: 0.8660\n",
            "Epoch 50/50\n",
            "209/209 [==============================] - 0s 266us/step - loss: 0.3881 - acc: 0.8947\n",
            "50/50 [==============================] - 0s 1ms/step\n"
          ],
          "name": "stdout"
        },
        {
          "output_type": "display_data",
          "data": {
            "image/png": "[encoded data removed]",
            "text/plain": [
              "<Figure size 576x576 with 1 Axes>"
            ]
          },
          "metadata": {
            "tags": []
          }
        },
        {
          "output_type": "stream",
          "text": [
            "\n",
            "\n",
            "Accuracy on training set is 0.8947368426756426\n",
            "\n",
            "Accuracy on test set is 0.6199999976158143\n"
          ],
          "name": "stdout"
        }
      ]
    },
    {
      "cell_type": "markdown",
      "metadata": {
        "id": "62flCqothoJc",
        "colab_type": "text"
      },
      "source": [
        "### 3.2 Improving the basic Model\n",
        "\n",
        "___Objective:___ Design and tune a feed forward deep learning model to achieve at least ___75% accuracy___ on this dataset."
      ]
    },
    {
      "cell_type": "code",
      "metadata": {
        "id": "9u6NkTVBhoJd",
        "colab_type": "code",
        "colab": {}
      },
      "source": [
        "# Run this cell first\n",
        "from numpy.random import seed\n",
        "seed(1)\n",
        "from tensorflow import set_random_seed\n",
        "set_random_seed(2)"
      ],
      "execution_count": 0,
      "outputs": []
    },
    {
      "cell_type": "code",
      "metadata": {
        "id": "QuRRvUp5hoJg",
        "colab_type": "code",
        "colab": {}
      },
      "source": [
        "model = Sequential()\n",
        "model.add(Dense(units=25, activation='relu', input_dim=train_set_x_flatten.shape[1]))\n",
        "\n",
        "model.add(Dense(units=30, activation='relu'))\n",
        "model.add(Dense(units=20, activation='relu'))\n",
        "\n",
        "model.add(Dense(units=10, activation='relu'))\n",
        "\n",
        "model.add(Dense(units=1, activation='sigmoid'))"
      ],
      "execution_count": 0,
      "outputs": []
    },
    {
      "cell_type": "code",
      "metadata": {
        "id": "fFInIczghoJk",
        "colab_type": "code",
        "colab": {}
      },
      "source": [
        "learning_rate = 0.0001\n",
        "opt=keras.optimizers.SGD(lr=0.01, momentum=0.0, decay=0.0, nesterov=False)\n",
        "#opt = Adam(lr=learning_rate)\n",
        "model.compile(optimizer=opt,\n",
        "              loss='binary_crossentropy',\n",
        "              metrics=['accuracy'])"
      ],
      "execution_count": 0,
      "outputs": []
    },
    {
      "cell_type": "code",
      "metadata": {
        "scrolled": true,
        "id": "-4dHINTNhoJm",
        "colab_type": "code",
        "outputId": "2704d93f-4406-44b9-e6e3-06ef381a99f5",
        "colab": {
          "base_uri": "https://localhost:8080/",
          "height": 1000
        }
      },
      "source": [
        "h = evaluate_this_model(model, 75)"
      ],
      "execution_count": 0,
      "outputs": [
        {
          "output_type": "stream",
          "text": [
            "Epoch 1/75\n",
            "209/209 [==============================] - 3s 12ms/step - loss: 0.6828 - acc: 0.5789\n",
            "Epoch 2/75\n",
            "209/209 [==============================] - 0s 229us/step - loss: 0.6590 - acc: 0.6507\n",
            "Epoch 3/75\n",
            "209/209 [==============================] - 0s 226us/step - loss: 0.6533 - acc: 0.6507\n",
            "Epoch 4/75\n",
            "209/209 [==============================] - 0s 213us/step - loss: 0.6446 - acc: 0.6507\n",
            "Epoch 5/75\n",
            "209/209 [==============================] - 0s 222us/step - loss: 0.6381 - acc: 0.6507\n",
            "Epoch 6/75\n",
            "209/209 [==============================] - 0s 220us/step - loss: 0.6400 - acc: 0.6507\n",
            "Epoch 7/75\n",
            "209/209 [==============================] - 0s 238us/step - loss: 0.6366 - acc: 0.6507\n",
            "Epoch 8/75\n",
            "209/209 [==============================] - 0s 228us/step - loss: 0.6297 - acc: 0.6507\n",
            "Epoch 9/75\n",
            "209/209 [==============================] - 0s 236us/step - loss: 0.6355 - acc: 0.6507\n",
            "Epoch 10/75\n",
            "209/209 [==============================] - 0s 223us/step - loss: 0.6231 - acc: 0.6555\n",
            "Epoch 11/75\n",
            "209/209 [==============================] - 0s 229us/step - loss: 0.6209 - acc: 0.6555\n",
            "Epoch 12/75\n",
            "209/209 [==============================] - 0s 225us/step - loss: 0.6148 - acc: 0.6555\n",
            "Epoch 13/75\n",
            "209/209 [==============================] - 0s 284us/step - loss: 0.6087 - acc: 0.6555\n",
            "Epoch 14/75\n",
            "209/209 [==============================] - 0s 224us/step - loss: 0.6044 - acc: 0.6555\n",
            "Epoch 15/75\n",
            "209/209 [==============================] - 0s 216us/step - loss: 0.6008 - acc: 0.6555\n",
            "Epoch 16/75\n",
            "209/209 [==============================] - 0s 217us/step - loss: 0.6061 - acc: 0.6555\n",
            "Epoch 17/75\n",
            "209/209 [==============================] - 0s 213us/step - loss: 0.5958 - acc: 0.6603\n",
            "Epoch 18/75\n",
            "209/209 [==============================] - 0s 213us/step - loss: 0.5993 - acc: 0.6555\n",
            "Epoch 19/75\n",
            "209/209 [==============================] - 0s 195us/step - loss: 0.5838 - acc: 0.6603\n",
            "Epoch 20/75\n",
            "209/209 [==============================] - 0s 200us/step - loss: 0.5767 - acc: 0.6603\n",
            "Epoch 21/75\n",
            "209/209 [==============================] - 0s 234us/step - loss: 0.6065 - acc: 0.7033\n",
            "Epoch 22/75\n",
            "209/209 [==============================] - 0s 220us/step - loss: 0.5843 - acc: 0.6651\n",
            "Epoch 23/75\n",
            "209/209 [==============================] - 0s 234us/step - loss: 0.6081 - acc: 0.6986\n",
            "Epoch 24/75\n",
            "209/209 [==============================] - 0s 239us/step - loss: 0.5546 - acc: 0.6938\n",
            "Epoch 25/75\n",
            "209/209 [==============================] - 0s 211us/step - loss: 0.5499 - acc: 0.7416\n",
            "Epoch 26/75\n",
            "209/209 [==============================] - 0s 255us/step - loss: 0.5439 - acc: 0.7033\n",
            "Epoch 27/75\n",
            "209/209 [==============================] - 0s 223us/step - loss: 0.5399 - acc: 0.7273\n",
            "Epoch 28/75\n",
            "209/209 [==============================] - 0s 233us/step - loss: 0.5285 - acc: 0.7560\n",
            "Epoch 29/75\n",
            "209/209 [==============================] - 0s 220us/step - loss: 0.5769 - acc: 0.6938\n",
            "Epoch 30/75\n",
            "209/209 [==============================] - 0s 245us/step - loss: 0.5187 - acc: 0.7799\n",
            "Epoch 31/75\n",
            "209/209 [==============================] - 0s 221us/step - loss: 0.5446 - acc: 0.7321\n",
            "Epoch 32/75\n",
            "209/209 [==============================] - 0s 203us/step - loss: 0.5271 - acc: 0.7656\n",
            "Epoch 33/75\n",
            "209/209 [==============================] - 0s 286us/step - loss: 0.5248 - acc: 0.7273\n",
            "Epoch 34/75\n",
            "209/209 [==============================] - 0s 219us/step - loss: 0.4929 - acc: 0.7656\n",
            "Epoch 35/75\n",
            "209/209 [==============================] - 0s 236us/step - loss: 0.4938 - acc: 0.7751\n",
            "Epoch 36/75\n",
            "209/209 [==============================] - 0s 235us/step - loss: 0.5397 - acc: 0.7177\n",
            "Epoch 37/75\n",
            "209/209 [==============================] - 0s 228us/step - loss: 0.5137 - acc: 0.7751\n",
            "Epoch 38/75\n",
            "209/209 [==============================] - 0s 229us/step - loss: 0.4862 - acc: 0.8278\n",
            "Epoch 39/75\n",
            "209/209 [==============================] - 0s 244us/step - loss: 0.4297 - acc: 0.8517\n",
            "Epoch 40/75\n",
            "209/209 [==============================] - 0s 248us/step - loss: 0.4632 - acc: 0.7895\n",
            "Epoch 41/75\n",
            "209/209 [==============================] - 0s 248us/step - loss: 0.5350 - acc: 0.7560\n",
            "Epoch 42/75\n",
            "209/209 [==============================] - 0s 220us/step - loss: 0.4448 - acc: 0.8325\n",
            "Epoch 43/75\n",
            "209/209 [==============================] - 0s 230us/step - loss: 0.4878 - acc: 0.7703\n",
            "Epoch 44/75\n",
            "209/209 [==============================] - 0s 235us/step - loss: 0.4787 - acc: 0.8038\n",
            "Epoch 45/75\n",
            "209/209 [==============================] - 0s 216us/step - loss: 0.4329 - acc: 0.8134\n",
            "Epoch 46/75\n",
            "209/209 [==============================] - 0s 219us/step - loss: 0.4347 - acc: 0.8278\n",
            "Epoch 47/75\n",
            "209/209 [==============================] - 0s 238us/step - loss: 0.5169 - acc: 0.7368\n",
            "Epoch 48/75\n",
            "209/209 [==============================] - 0s 238us/step - loss: 0.4009 - acc: 0.8373\n",
            "Epoch 49/75\n",
            "209/209 [==============================] - 0s 248us/step - loss: 0.5671 - acc: 0.7321\n",
            "Epoch 50/75\n",
            "209/209 [==============================] - 0s 251us/step - loss: 0.4315 - acc: 0.8230\n",
            "Epoch 51/75\n",
            "209/209 [==============================] - 0s 217us/step - loss: 0.3907 - acc: 0.8421\n",
            "Epoch 52/75\n",
            "209/209 [==============================] - 0s 226us/step - loss: 0.4411 - acc: 0.7990\n",
            "Epoch 53/75\n",
            "209/209 [==============================] - 0s 256us/step - loss: 0.5007 - acc: 0.7895\n",
            "Epoch 54/75\n",
            "209/209 [==============================] - 0s 229us/step - loss: 0.4199 - acc: 0.8421\n",
            "Epoch 55/75\n",
            "209/209 [==============================] - 0s 224us/step - loss: 0.3573 - acc: 0.8660\n",
            "Epoch 56/75\n",
            "209/209 [==============================] - 0s 217us/step - loss: 0.4277 - acc: 0.8038\n",
            "Epoch 57/75\n",
            "209/209 [==============================] - 0s 228us/step - loss: 0.4328 - acc: 0.7895\n",
            "Epoch 58/75\n",
            "209/209 [==============================] - 0s 234us/step - loss: 0.4166 - acc: 0.8086\n",
            "Epoch 59/75\n",
            "209/209 [==============================] - 0s 210us/step - loss: 0.3577 - acc: 0.8517\n",
            "Epoch 60/75\n",
            "209/209 [==============================] - 0s 232us/step - loss: 0.5173 - acc: 0.7368\n",
            "Epoch 61/75\n",
            "209/209 [==============================] - 0s 251us/step - loss: 0.4025 - acc: 0.8230\n",
            "Epoch 62/75\n",
            "209/209 [==============================] - 0s 263us/step - loss: 0.3339 - acc: 0.8708\n",
            "Epoch 63/75\n",
            "209/209 [==============================] - 0s 232us/step - loss: 0.4453 - acc: 0.7847\n",
            "Epoch 64/75\n",
            "209/209 [==============================] - 0s 206us/step - loss: 0.3944 - acc: 0.8230\n",
            "Epoch 65/75\n",
            "209/209 [==============================] - 0s 218us/step - loss: 0.3779 - acc: 0.8660\n",
            "Epoch 66/75\n",
            "209/209 [==============================] - 0s 215us/step - loss: 0.3370 - acc: 0.8852\n",
            "Epoch 67/75\n",
            "209/209 [==============================] - 0s 224us/step - loss: 0.3263 - acc: 0.8612\n",
            "Epoch 68/75\n",
            "209/209 [==============================] - 0s 227us/step - loss: 0.4133 - acc: 0.8325\n",
            "Epoch 69/75\n",
            "209/209 [==============================] - 0s 241us/step - loss: 0.3831 - acc: 0.8565\n",
            "Epoch 70/75\n",
            "209/209 [==============================] - 0s 228us/step - loss: 0.3977 - acc: 0.8086\n",
            "Epoch 71/75\n",
            "209/209 [==============================] - 0s 228us/step - loss: 0.2505 - acc: 0.9187\n",
            "Epoch 72/75\n",
            "209/209 [==============================] - 0s 222us/step - loss: 0.3066 - acc: 0.8947\n",
            "Epoch 73/75\n",
            "209/209 [==============================] - 0s 227us/step - loss: 0.3689 - acc: 0.8469\n",
            "Epoch 74/75\n",
            "209/209 [==============================] - 0s 262us/step - loss: 0.3775 - acc: 0.8373\n",
            "Epoch 75/75\n",
            "209/209 [==============================] - 0s 230us/step - loss: 0.3008 - acc: 0.8660\n",
            "50/50 [==============================] - 1s 19ms/step\n"
          ],
          "name": "stdout"
        },
        {
          "output_type": "display_data",
          "data": {
            "image/png": "[encoded data removed]",
            "text/plain": [
              "<Figure size 576x576 with 1 Axes>"
            ]
          },
          "metadata": {
            "tags": []
          }
        },
        {
          "output_type": "stream",
          "text": [
            "\n",
            "\n",
            "Accuracy on training set is 0.866028708419161\n",
            "\n",
            "Accuracy on test set is 0.7800000071525574\n"
          ],
          "name": "stdout"
        }
      ]
    },
    {
      "cell_type": "code",
      "metadata": {
        "id": "3OuzgYPm7CSv",
        "colab_type": "code",
        "colab": {}
      },
      "source": [
        ""
      ],
      "execution_count": 0,
      "outputs": []
    }
  ]
}